{
 "cells": [
  {
   "cell_type": "code",
   "execution_count": 9,
   "metadata": {},
   "outputs": [],
   "source": [
    "import pandas as pd\n",
    "import numpy as np\n",
    "import matplotlib.pyplot as plt\n",
    "import seaborn as sns\n",
    "import scipy.stats as stats"
   ]
  },
  {
   "cell_type": "code",
   "execution_count": 10,
   "metadata": {},
   "outputs": [],
   "source": [
    "# Load data from CSV file\n",
    "data = pd.read_csv(\"/workspaces/codespaces-jupyter/data/ML Dataset/Iris.csv\")"
   ]
  },
  {
   "cell_type": "code",
   "execution_count": 11,
   "metadata": {},
   "outputs": [
    {
     "name": "stdout",
     "output_type": "stream",
     "text": [
      "      Id  SepalLengthCm  SepalWidthCm  PetalLengthCm  PetalWidthCm  \\\n",
      "0      1            5.1           3.5            1.4           0.2   \n",
      "1      2            4.9           3.0            1.4           0.2   \n",
      "2      3            4.7           3.2            1.3           0.2   \n",
      "3      4            4.6           3.1            1.5           0.2   \n",
      "4      5            5.0           3.6            1.4           0.2   \n",
      "..   ...            ...           ...            ...           ...   \n",
      "145  146            6.7           3.0            5.2           2.3   \n",
      "146  147            6.3           2.5            5.0           1.9   \n",
      "147  148            6.5           3.0            5.2           2.0   \n",
      "148  149            6.2           3.4            5.4           2.3   \n",
      "149  150            5.9           3.0            5.1           1.8   \n",
      "\n",
      "            Species  \n",
      "0       Iris-setosa  \n",
      "1       Iris-setosa  \n",
      "2       Iris-setosa  \n",
      "3       Iris-setosa  \n",
      "4       Iris-setosa  \n",
      "..              ...  \n",
      "145  Iris-virginica  \n",
      "146  Iris-virginica  \n",
      "147  Iris-virginica  \n",
      "148  Iris-virginica  \n",
      "149  Iris-virginica  \n",
      "\n",
      "[150 rows x 6 columns]\n"
     ]
    }
   ],
   "source": [
    "# Print the loaded data\n",
    "print(data)"
   ]
  },
  {
   "cell_type": "code",
   "execution_count": 13,
   "metadata": {},
   "outputs": [
    {
     "name": "stdout",
     "output_type": "stream",
     "text": [
      "<class 'pandas.core.frame.DataFrame'>\n",
      "RangeIndex: 150 entries, 0 to 149\n",
      "Data columns (total 6 columns):\n",
      " #   Column         Non-Null Count  Dtype  \n",
      "---  ------         --------------  -----  \n",
      " 0   Id             150 non-null    int64  \n",
      " 1   SepalLengthCm  150 non-null    float64\n",
      " 2   SepalWidthCm   150 non-null    float64\n",
      " 3   PetalLengthCm  150 non-null    float64\n",
      " 4   PetalWidthCm   150 non-null    float64\n",
      " 5   Species        150 non-null    object \n",
      "dtypes: float64(4), int64(1), object(1)\n",
      "memory usage: 7.2+ KB\n"
     ]
    }
   ],
   "source": [
    "data.info()"
   ]
  },
  {
   "cell_type": "code",
   "execution_count": 14,
   "metadata": {},
   "outputs": [
    {
     "name": "stdout",
     "output_type": "stream",
     "text": [
      "0      False\n",
      "1      False\n",
      "2      False\n",
      "3      False\n",
      "4      False\n",
      "       ...  \n",
      "145    False\n",
      "146    False\n",
      "147    False\n",
      "148    False\n",
      "149    False\n",
      "Length: 150, dtype: bool\n"
     ]
    }
   ],
   "source": [
    "duplicates = data.duplicated()\n",
    "print(duplicates)"
   ]
  },
  {
   "cell_type": "code",
   "execution_count": 15,
   "metadata": {},
   "outputs": [
    {
     "name": "stdout",
     "output_type": "stream",
     "text": [
      "Id               0\n",
      "SepalLengthCm    0\n",
      "SepalWidthCm     0\n",
      "PetalLengthCm    0\n",
      "PetalWidthCm     0\n",
      "Species          0\n",
      "dtype: int64\n"
     ]
    }
   ],
   "source": [
    "print(data.isnull().sum())"
   ]
  },
  {
   "cell_type": "code",
   "execution_count": 16,
   "metadata": {},
   "outputs": [
    {
     "data": {
      "text/plain": [
       "<Axes: >"
      ]
     },
     "execution_count": 16,
     "metadata": {},
     "output_type": "execute_result"
    },
    {
     "data": {
      "image/png": "[encoded data removed]",
      "text/plain": [
       "<Figure size 640x480 with 2 Axes>"
      ]
     },
     "metadata": {},
     "output_type": "display_data"
    }
   ],
   "source": [
    "sns.heatmap(data.isnull(),yticklabels=False)\n",
    "sns.heatmap(data.isnull(),yticklabels=False, cbar=False, cmap='coolwarm')"
   ]
  },
  {
   "cell_type": "code",
   "execution_count": 17,
   "metadata": {},
   "outputs": [
    {
     "name": "stdout",
     "output_type": "stream",
     "text": [
      "Id               0\n",
      "SepalLengthCm    0\n",
      "SepalWidthCm     0\n",
      "PetalLengthCm    0\n",
      "PetalWidthCm     0\n",
      "Species          0\n",
      "dtype: int64\n"
     ]
    }
   ],
   "source": [
    "data2 = data\n",
    "data['SepalLengthCm'] = data['SepalLengthCm'].fillna(data['SepalLengthCm'].mean())\n",
    "print(data.isnull().sum())"
   ]
  },
  {
   "cell_type": "code",
   "execution_count": 18,
   "metadata": {},
   "outputs": [
    {
     "name": "stdout",
     "output_type": "stream",
     "text": [
      "[0.2 0.4 0.3 0.1 0.5 0.6 1.4 1.5 1.3 1.6 1.  1.1 1.8 1.2 1.7 2.5 1.9 2.1\n",
      " 2.2 2.  2.4 2.3]\n",
      "0.2    28\n",
      "1.3    13\n",
      "1.8    12\n",
      "1.5    12\n",
      "1.4     8\n",
      "2.3     8\n",
      "1.0     7\n",
      "0.4     7\n",
      "0.3     7\n",
      "0.1     6\n",
      "2.1     6\n",
      "2.0     6\n",
      "1.2     5\n",
      "1.9     5\n",
      "1.6     4\n",
      "2.5     3\n",
      "2.2     3\n",
      "2.4     3\n",
      "1.1     3\n",
      "1.7     2\n",
      "0.6     1\n",
      "0.5     1\n",
      "Name: PetalWidthCm, dtype: int64\n"
     ]
    }
   ],
   "source": [
    "print(data2['PetalWidthCm'].unique())\n",
    "print(data2['PetalWidthCm'].value_counts())"
   ]
  },
  {
   "cell_type": "code",
   "execution_count": 21,
   "metadata": {},
   "outputs": [
    {
     "name": "stdout",
     "output_type": "stream",
     "text": [
      "Id               0\n",
      "SepalLengthCm    0\n",
      "PetalLengthCm    0\n",
      "Species          0\n",
      "dtype: int64\n"
     ]
    }
   ],
   "source": [
    "data2 = data2.drop(columns=['PetalWidthCm'])\n",
    "print(data2.isnull().sum())"
   ]
  },
  {
   "cell_type": "code",
   "execution_count": 22,
   "metadata": {},
   "outputs": [
    {
     "name": "stdout",
     "output_type": "stream",
     "text": [
      "['Iris-setosa' 'Iris-versicolor' 'Iris-virginica']\n",
      "Id               0\n",
      "SepalLengthCm    0\n",
      "PetalLengthCm    0\n",
      "Species          0\n",
      "dtype: int64\n",
      "['Iris-setosa' 'Iris-versicolor' 'Iris-virginica']\n"
     ]
    },
    {
     "data": {
      "text/plain": [
       "Iris-setosa        50\n",
       "Iris-versicolor    50\n",
       "Iris-virginica     50\n",
       "Name: Species, dtype: int64"
      ]
     },
     "execution_count": 22,
     "metadata": {},
     "output_type": "execute_result"
    }
   ],
   "source": [
    "# data2.Species.fillna(data2.Species.mode, inplace=True)\n",
    "print(data2['Species'].unique())\n",
    "data2.dropna(subset=['Species'], inplace=True)\n",
    "print(data2.isnull().sum())\n",
    "print(data2['Species'].unique())\n",
    "data2['Species'].value_counts()"
   ]
  },
  {
   "cell_type": "code",
   "execution_count": 23,
   "metadata": {},
   "outputs": [
    {
     "name": "stdout",
     "output_type": "stream",
     "text": [
      "      Id  SepalLengthCm  PetalLengthCm  Species_Iris-setosa  \\\n",
      "0      1            5.1            1.4                    1   \n",
      "1      2            4.9            1.4                    1   \n",
      "2      3            4.7            1.3                    1   \n",
      "3      4            4.6            1.5                    1   \n",
      "4      5            5.0            1.4                    1   \n",
      "..   ...            ...            ...                  ...   \n",
      "145  146            6.7            5.2                    0   \n",
      "146  147            6.3            5.0                    0   \n",
      "147  148            6.5            5.2                    0   \n",
      "148  149            6.2            5.4                    0   \n",
      "149  150            5.9            5.1                    0   \n",
      "\n",
      "     Species_Iris-versicolor  Species_Iris-virginica  \n",
      "0                          0                       0  \n",
      "1                          0                       0  \n",
      "2                          0                       0  \n",
      "3                          0                       0  \n",
      "4                          0                       0  \n",
      "..                       ...                     ...  \n",
      "145                        0                       1  \n",
      "146                        0                       1  \n",
      "147                        0                       1  \n",
      "148                        0                       1  \n",
      "149                        0                       1  \n",
      "\n",
      "[150 rows x 6 columns]\n"
     ]
    }
   ],
   "source": [
    "one_hot_encoded_data_Species = pd.get_dummies(data2, columns=(['Species']))\n",
    "print(one_hot_encoded_data_Species)"
   ]
  },
  {
   "cell_type": "code",
   "execution_count": 25,
   "metadata": {},
   "outputs": [
    {
     "name": "stdout",
     "output_type": "stream",
     "text": [
      "[  1   2   3   4   5   6   7   8   9  10  11  12  13  14  15  16  17  18\n",
      "  19  20  21  22  23  24  25  26  27  28  29  30  31  32  33  34  35  36\n",
      "  37  38  39  40  41  42  43  44  45  46  47  48  49  50  51  52  53  54\n",
      "  55  56  57  58  59  60  61  62  63  64  65  66  67  68  69  70  71  72\n",
      "  73  74  75  76  77  78  79  80  81  82  83  84  85  86  87  88  89  90\n",
      "  91  92  93  94  95  96  97  98  99 100 101 102 103 104 105 106 107 108\n",
      " 109 110 111 112 113 114 115 116 117 118 119 120 121 122 123 124 125 126\n",
      " 127 128 129 130 131 132 133 134 135 136 137 138 139 140 141 142 143 144\n",
      " 145 146 147 148 149 150]\n"
     ]
    }
   ],
   "source": [
    "print(data2['Id'].unique())"
   ]
  },
  {
   "cell_type": "code",
   "execution_count": 27,
   "metadata": {},
   "outputs": [
    {
     "name": "stdout",
     "output_type": "stream",
     "text": [
      "      Id  PetalLengthCm         Species  SepalLengthCm_4.3  SepalLengthCm_4.4  \\\n",
      "0      1            1.4     Iris-setosa                  0                  0   \n",
      "1      2            1.4     Iris-setosa                  0                  0   \n",
      "2      3            1.3     Iris-setosa                  0                  0   \n",
      "3      4            1.5     Iris-setosa                  0                  0   \n",
      "4      5            1.4     Iris-setosa                  0                  0   \n",
      "..   ...            ...             ...                ...                ...   \n",
      "145  146            5.2  Iris-virginica                  0                  0   \n",
      "146  147            5.0  Iris-virginica                  0                  0   \n",
      "147  148            5.2  Iris-virginica                  0                  0   \n",
      "148  149            5.4  Iris-virginica                  0                  0   \n",
      "149  150            5.1  Iris-virginica                  0                  0   \n",
      "\n",
      "     SepalLengthCm_4.5  SepalLengthCm_4.6  SepalLengthCm_4.7  \\\n",
      "0                    0                  0                  0   \n",
      "1                    0                  0                  0   \n",
      "2                    0                  0                  1   \n",
      "3                    0                  1                  0   \n",
      "4                    0                  0                  0   \n",
      "..                 ...                ...                ...   \n",
      "145                  0                  0                  0   \n",
      "146                  0                  0                  0   \n",
      "147                  0                  0                  0   \n",
      "148                  0                  0                  0   \n",
      "149                  0                  0                  0   \n",
      "\n",
      "     SepalLengthCm_4.8  SepalLengthCm_4.9  ...  SepalLengthCm_6.8  \\\n",
      "0                    0                  0  ...                  0   \n",
      "1                    0                  1  ...                  0   \n",
      "2                    0                  0  ...                  0   \n",
      "3                    0                  0  ...                  0   \n",
      "4                    0                  0  ...                  0   \n",
      "..                 ...                ...  ...                ...   \n",
      "145                  0                  0  ...                  0   \n",
      "146                  0                  0  ...                  0   \n",
      "147                  0                  0  ...                  0   \n",
      "148                  0                  0  ...                  0   \n",
      "149                  0                  0  ...                  0   \n",
      "\n",
      "     SepalLengthCm_6.9  SepalLengthCm_7.0  SepalLengthCm_7.1  \\\n",
      "0                    0                  0                  0   \n",
      "1                    0                  0                  0   \n",
      "2                    0                  0                  0   \n",
      "3                    0                  0                  0   \n",
      "4                    0                  0                  0   \n",
      "..                 ...                ...                ...   \n",
      "145                  0                  0                  0   \n",
      "146                  0                  0                  0   \n",
      "147                  0                  0                  0   \n",
      "148                  0                  0                  0   \n",
      "149                  0                  0                  0   \n",
      "\n",
      "     SepalLengthCm_7.2  SepalLengthCm_7.3  SepalLengthCm_7.4  \\\n",
      "0                    0                  0                  0   \n",
      "1                    0                  0                  0   \n",
      "2                    0                  0                  0   \n",
      "3                    0                  0                  0   \n",
      "4                    0                  0                  0   \n",
      "..                 ...                ...                ...   \n",
      "145                  0                  0                  0   \n",
      "146                  0                  0                  0   \n",
      "147                  0                  0                  0   \n",
      "148                  0                  0                  0   \n",
      "149                  0                  0                  0   \n",
      "\n",
      "     SepalLengthCm_7.6  SepalLengthCm_7.7  SepalLengthCm_7.9  \n",
      "0                    0                  0                  0  \n",
      "1                    0                  0                  0  \n",
      "2                    0                  0                  0  \n",
      "3                    0                  0                  0  \n",
      "4                    0                  0                  0  \n",
      "..                 ...                ...                ...  \n",
      "145                  0                  0                  0  \n",
      "146                  0                  0                  0  \n",
      "147                  0                  0                  0  \n",
      "148                  0                  0                  0  \n",
      "149                  0                  0                  0  \n",
      "\n",
      "[150 rows x 38 columns]\n"
     ]
    }
   ],
   "source": [
    "one_hot_encoded_data_SepalLengthCm = pd.get_dummies(data2, columns=(['SepalLengthCm']))\n",
    "print(one_hot_encoded_data_SepalLengthCm)"
   ]
  }
 ],
 "metadata": {
  "kernelspec": {
   "display_name": "Python 3",
   "language": "python",
   "name": "python3"
  },
  "language_info": {
   "codemirror_mode": {
    "name": "ipython",
    "version": 3
   },
   "file_extension": ".py",
   "mimetype": "text/x-python",
   "name": "python",
   "nbconvert_exporter": "python",
   "pygments_lexer": "ipython3",
   "version": "3.10.13"
  }
 },
 "nbformat": 4,
 "nbformat_minor": 2
}
