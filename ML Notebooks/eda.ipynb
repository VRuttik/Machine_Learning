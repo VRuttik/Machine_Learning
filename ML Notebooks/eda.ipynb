{
 "cells": [
  {
   "cell_type": "code",
   "execution_count": null,
   "metadata": {},
   "outputs": [],
   "source": [
    "import pandas as pd\n",
    "import matplotlib.pyplot as plt\n",
    "import seaborn as sns\n",
    "\n",
    "# Load data\n",
    "data = pd.read_csv('your_data.csv')\n",
    "\n",
    "# Preprocessing: Replace missing values with mean, median, or mode\n",
    "data.fillna(data.mean(), inplace=True)\n",
    "\n",
    "# Descriptive statistics\n",
    "print(data.describe())\n",
    "\n",
    "# Visualize distributions\n",
    "sns.histplot(data['numerical_column'], bins=20)\n",
    "plt.title('Histogram of Numerical Column')\n",
    "plt.show()\n",
    "\n",
    "# Boxplot\n",
    "sns.boxplot(data['numerical_column'])\n",
    "plt.title('Boxplot of Numerical Column')\n",
    "plt.show()\n",
    "\n",
    "# Explore relationships\n",
    "sns.pairplot(data)\n",
    "plt.title('Pairplot')\n",
    "plt.show()\n",
    "\n",
    "# Analyze categorical variables\n",
    "sns.countplot(x='categorical_column', data=data)\n",
    "plt.title('Countplot of Categorical Column')\n",
    "plt.show()\n",
    "\n",
    "# Identify missing values (after replacement)\n",
    "print(data.isnull().sum())\n"
   ]
  }
 ],
 "metadata": {
  "language_info": {
   "name": "python"
  }
 },
 "nbformat": 4,
 "nbformat_minor": 2
}
